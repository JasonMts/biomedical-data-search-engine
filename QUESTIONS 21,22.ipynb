{
 "cells": [
  {
   "cell_type": "code",
   "execution_count": 3,
   "metadata": {},
   "outputs": [],
   "source": [
    "import numpy as np\n",
    "import matplotlib.pyplot as plt\n",
    "import scipy.stats as sp\n",
    "import scipy.optimize as opt\n",
    "from numpy.linalg import inv\n",
    "from math import pi\n",
    "\n",
    "#copyright Iason Myttas "
   ]
  },
  {
   "cell_type": "markdown",
   "metadata": {},
   "source": [
    "COURSEWORK QUESTION 21"
   ]
  },
  {
   "cell_type": "code",
   "execution_count": 14,
   "metadata": {
    "scrolled": true
   },
   "outputs": [],
   "source": [
    "\n",
    "#create some data\n",
    "X = np.linspace(0,4*pi, 100)\n",
    "N = 100\n",
    "\n",
    "#pass nonlinear function\n",
    "fnl1 = X*np.sin(X)\n",
    "fnl2 = X*np.cos(X)\n",
    "\n",
    "fnl = np.column_stack([fnl1,fnl2])\n",
    "\n",
    "#pass linear function\n",
    "A = np.random.normal(0,1,20)\n",
    "A = A.reshape(10,2)\n",
    "\n",
    "#We will try to estimate the true weights using these\n",
    "C = np.random.normal(0,1,20)\n",
    "C = C.reshape(10,2)\n",
    "\n",
    "\n",
    "flin = fnl.dot(A.T).T\n",
    "Y = flin\n"
   ]
  },
  {
   "cell_type": "code",
   "execution_count": 15,
   "metadata": {
    "scrolled": true
   },
   "outputs": [
    {
     "name": "stdout",
     "output_type": "stream",
     "text": [
      "Optimization terminated successfully.\n",
      "         Current function value: 2013.333713\n",
      "         Iterations: 105\n",
      "         Function evaluations: 209\n",
      "         Gradient evaluations: 209\n",
      "(20,)\n",
      "(10, 100)\n"
     ]
    }
   ],
   "source": [
    "#marginal log \n",
    "def f(W, *args): \n",
    "    \n",
    "    W = W.reshape(Wshape)\n",
    "    invC = inv(np.dot(W,W.T)+np.identity(Wshape[0]))\n",
    "    \n",
    "    A = np.trace(invC.dot(Y.dot(Y.T)))\n",
    "    B = np.log(np.linalg.det(np.dot(W,W.T)+np.identity(Wshape[0])))\n",
    "    C = 10*np.log(2*pi)\n",
    "    \n",
    "    return (N/2)*(A + B + C)\n",
    "\n",
    "def dfx(W, *args):\n",
    "    \n",
    "    dim1, dim2 = Wshape[0], Wshape[1]\n",
    "    der = np.empty((dim1,dim2))\n",
    "    \n",
    "    #reshape W since it is flattened\n",
    "    W = W.reshape(Wshape)\n",
    "\n",
    "    invC = inv(np.dot(W,W.T)+np.identity(Wshape[0]))\n",
    "#     print(\"invC shape\", invC.shape)\n",
    "    \n",
    "    #loop once for the derivative in terms of each element of W\n",
    "    for i in range(dim1):\n",
    "        for j in range(dim2):\n",
    "            \n",
    "            #Create each J matrix for every derivative\n",
    "            Jij = np.zeros((dim1,dim2))\n",
    "            \n",
    "            #set one element to 1 each time\n",
    "            Jij[i,j] = 1\n",
    "                        \n",
    "            #we do not have to calculate for term C since its derivative is 0\n",
    "            A = np.trace((-1)*np.dot(np.dot(Y,Y.T),np.dot(invC,np.dot(np.dot(W,Jij.T) + np.dot(Jij, W.T),invC))))\n",
    "            B = np.trace(np.dot(invC,np.dot(W,Jij.T) + np.dot(Jij, W.T)))\n",
    "            \n",
    "            der[i,j] = (N/2)*(A + B)\n",
    "    \n",
    "    #1d so it can be returned\n",
    "    der = der.reshape(20,)\n",
    "    return der\n",
    "            \n",
    "\n",
    "Wshape = A.shape\n",
    "Wprimes = opt.fmin_cg(f, C.flatten(), fprime=dfx, args=Wshape)\n",
    "Wnew = Wprimes.reshape(Wshape)\n",
    "print(Wprimes.shape)\n",
    "\n",
    "print(Y.shape)\n",
    "#not solving for X\n",
    "predicts = np.dot(Y.T,Wnew)\n",
    "\n",
    "#solve for X\n",
    "predicts2 = np.dot(Y.T, np.dot(Wnew,inv(np.dot(Wnew.T,Wnew))))\n",
    "# print(Wnew)\n",
    "# print(Y)"
   ]
  },
  {
   "cell_type": "code",
   "execution_count": 16,
   "metadata": {},
   "outputs": [
    {
     "data": {
      "text/plain": [
       "<matplotlib.collections.PathCollection at 0x7f909d71e390>"
      ]
     },
     "execution_count": 16,
     "metadata": {},
     "output_type": "execute_result"
    },
    {
     "data": {
      "image/png": "[encoded data removed]",
      "text/plain": [
       "<Figure size 432x288 with 1 Axes>"
      ]
     },
     "metadata": {
      "needs_background": "light"
     },
     "output_type": "display_data"
    },
    {
     "data": {
      "image/png": "[encoded data removed]",
      "text/plain": [
       "<Figure size 432x288 with 1 Axes>"
      ]
     },
     "metadata": {
      "needs_background": "light"
     },
     "output_type": "display_data"
    }
   ],
   "source": [
    "#plot learned plot\n",
    "plt.figure(1)\n",
    "plt.scatter(predicts2[:,0],predicts2[:,1])\n",
    "\n",
    "#plot original plot\n",
    "plt.figure(2)\n",
    "plt.scatter(fnl[:,0],fnl[:,1])"
   ]
  },
  {
   "cell_type": "code",
   "execution_count": 13,
   "metadata": {},
   "outputs": [
    {
     "name": "stdout",
     "output_type": "stream",
     "text": [
      "(10, 100)\n"
     ]
    },
    {
     "data": {
      "text/plain": [
       "<matplotlib.collections.PathCollection at 0x7f909d7a8630>"
      ]
     },
     "execution_count": 13,
     "metadata": {},
     "output_type": "execute_result"
    },
    {
     "data": {
      "image/png": "[encoded data removed]",
      "text/plain": [
       "<Figure size 432x288 with 1 Axes>"
      ]
     },
     "metadata": {
      "needs_background": "light"
     },
     "output_type": "display_data"
    }
   ],
   "source": [
    "#trying with random parameters\n",
    "B = np.random.normal(5,10,20)\n",
    "B = B.reshape(10,2)\n",
    "\n",
    "predicts_random = np.dot(Y.T,B)\n",
    "\n",
    "print(Y.shape)\n",
    "plt.scatter(predicts_random[:,0], predicts_random[:,1])\n",
    "\n"
   ]
  }
 ],
 "metadata": {
  "kernelspec": {
   "display_name": "Python 3",
   "language": "python",
   "name": "python3"
  },
  "language_info": {
   "codemirror_mode": {
    "name": "ipython",
    "version": 3
   },
   "file_extension": ".py",
   "mimetype": "text/x-python",
   "name": "python",
   "nbconvert_exporter": "python",
   "pygments_lexer": "ipython3",
   "version": "3.6.5"
  },
  "varInspector": {
   "cols": {
    "lenName": 16,
    "lenType": 16,
    "lenVar": 40
   },
   "kernels_config": {
    "python": {
     "delete_cmd_postfix": "",
     "delete_cmd_prefix": "del ",
     "library": "var_list.py",
     "varRefreshCmd": "print(var_dic_list())"
    },
    "r": {
     "delete_cmd_postfix": ") ",
     "delete_cmd_prefix": "rm(",
     "library": "var_list.r",
     "varRefreshCmd": "cat(var_dic_list()) "
    }
   },
   "oldHeight": 399.98278,
   "position": {
    "height": "422.205px",
    "left": "1670.8px",
    "right": "20px",
    "top": "221.958px",
    "width": "350px"
   },
   "types_to_exclude": [
    "module",
    "function",
    "builtin_function_or_method",
    "instance",
    "_Feature"
   ],
   "varInspector_section_display": "block",
   "window_display": true
  }
 },
 "nbformat": 4,
 "nbformat_minor": 2
}
